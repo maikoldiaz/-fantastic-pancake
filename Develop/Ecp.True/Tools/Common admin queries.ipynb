{
    "metadata": {
        "kernelspec": {
            "name": "SQL",
            "display_name": "SQL",
            "language": "sql"
        },
        "language_info": {
            "name": "sql",
            "version": ""
        },
        "extensions": {
            "azuredatastudio": {
                "version": 1,
                "views": []
            }
        }
    },
    "nbformat_minor": 2,
    "nbformat": 4,
    "cells": [
        {
            "cell_type": "markdown",
            "source": [
                "## Elementos de categoría"
            ],
            "metadata": {
                "azdata_cell_guid": "90fd3b8f-e5b8-4b54-9a30-9f78f5f00713"
            },
            "attachments": {}
        },
        {
            "cell_type": "code",
            "source": [
                "-- Select rows from a Table or View '[CategoryElement]' in schema '[Admin]'\r\n",
                "SELECT * FROM [Admin].[CategoryElement]\r\n",
                "WHERE ElementId = 1530\r\n",
                "GO"
            ],
            "metadata": {
                "azdata_cell_guid": "e11788cc-ff38-4d88-81f0-ec07aa913d8c",
                "tags": [
                    "hide_input"
                ]
            },
            "outputs": [],
            "execution_count": null
        },
        {
            "cell_type": "markdown",
            "source": [
                "## Nodos"
            ],
            "metadata": {
                "azdata_cell_guid": "53fad960-7e4f-44e0-95d4-eb5f24604d32"
            },
            "attachments": {}
        },
        {
            "cell_type": "code",
            "source": [
                "-- Select rows from a Table or View '[Node]' in schema '[offchain]'\r\n",
                "SELECT * FROM [offchain].[Node]\r\n",
                "WHERE NodeId = 281\r\n",
                "GO"
            ],
            "metadata": {
                "azdata_cell_guid": "7b8c8281-fae3-40dc-89b8-06f654966695",
                "tags": [
                    "hide_input"
                ]
            },
            "outputs": [
                {
                    "output_type": "display_data",
                    "data": {
                        "text/html": "(1 row affected)"
                    },
                    "metadata": {}
                },
                {
                    "output_type": "display_data",
                    "data": {
                        "text/html": "Total execution time: 00:00:00.096"
                    },
                    "metadata": {}
                },
                {
                    "output_type": "execute_result",
                    "metadata": {},
                    "execution_count": 4,
                    "data": {
                        "application/vnd.dataresource+json": {
                            "schema": {
                                "fields": [
                                    {
                                        "name": "Id"
                                    },
                                    {
                                        "name": "NodeId"
                                    },
                                    {
                                        "name": "Name"
                                    },
                                    {
                                        "name": "NodeStateTypeId"
                                    },
                                    {
                                        "name": "LastUpdateDate"
                                    },
                                    {
                                        "name": "IsActive"
                                    },
                                    {
                                        "name": "TransactionHash"
                                    },
                                    {
                                        "name": "BlockNumber"
                                    },
                                    {
                                        "name": "BlockchainStatus"
                                    },
                                    {
                                        "name": "RetryCount"
                                    },
                                    {
                                        "name": "CreatedBy"
                                    },
                                    {
                                        "name": "CreatedDate"
                                    },
                                    {
                                        "name": "LastModifiedBy"
                                    },
                                    {
                                        "name": "LastModifiedDate"
                                    }
                                ]
                            },
                            "data": [
                                {
                                    "0": "2135",
                                    "1": "281",
                                    "2": "TENAY-VASCONIA OAM",
                                    "3": "3",
                                    "4": "2020-09-16 11:24:48.093",
                                    "5": "1",
                                    "6": "0xa0bafe1dfdbdf37548c1787406fff0ed1a1a9db343224731e449336e7755ec39",
                                    "7": "3639212",
                                    "8": "0",
                                    "9": "0",
                                    "10": "System",
                                    "11": "2020-09-16 11:24:48.100",
                                    "12": "System",
                                    "13": "2020-09-16 11:26:45.423"
                                }
                            ]
                        },
                        "text/html": [
                            "<table>",
                            "<tr><th>Id</th><th>NodeId</th><th>Name</th><th>NodeStateTypeId</th><th>LastUpdateDate</th><th>IsActive</th><th>TransactionHash</th><th>BlockNumber</th><th>BlockchainStatus</th><th>RetryCount</th><th>CreatedBy</th><th>CreatedDate</th><th>LastModifiedBy</th><th>LastModifiedDate</th></tr>",
                            "<tr><td>2135</td><td>281</td><td>TENAY-VASCONIA OAM</td><td>3</td><td>2020-09-16 11:24:48.093</td><td>1</td><td>0xa0bafe1dfdbdf37548c1787406fff0ed1a1a9db343224731e449336e7755ec39</td><td>3639212</td><td>0</td><td>0</td><td>System</td><td>2020-09-16 11:24:48.100</td><td>System</td><td>2020-09-16 11:26:45.423</td></tr>",
                            "</table>"
                        ]
                    }
                }
            ],
            "execution_count": 4
        },
        {
            "cell_type": "markdown",
            "source": [
                "## Vista de Movimientos"
            ],
            "metadata": {
                "azdata_cell_guid": "b47730a8-499f-4199-82e1-cf3a73111749"
            },
            "attachments": {}
        },
        {
            "cell_type": "code",
            "source": [
                "-- Select rows from a Table or View '[Movement]' in schema '[dbo]'\r\n",
                "SELECT TOP 1 * FROM [Admin].[view_MovementInformation]\r\n",
                "WHERE MovementTransactionId = 190832\r\n",
                "GO"
            ],
            "metadata": {
                "azdata_cell_guid": "0eaebac1-a503-40ef-a48e-1f01e2da010b",
                "tags": []
            },
            "outputs": [
                {
                    "output_type": "display_data",
                    "data": {
                        "text/html": "(1 row affected)"
                    },
                    "metadata": {}
                },
                {
                    "output_type": "display_data",
                    "data": {
                        "text/html": "Total execution time: 00:00:00.101"
                    },
                    "metadata": {}
                },
                {
                    "output_type": "execute_result",
                    "metadata": {},
                    "execution_count": 7,
                    "data": {
                        "application/vnd.dataresource+json": {
                            "schema": {
                                "fields": [
                                    {
                                        "name": "MovementID"
                                    },
                                    {
                                        "name": "MovementTypeId"
                                    },
                                    {
                                        "name": "MovementTypeName"
                                    },
                                    {
                                        "name": "MovementTransactionId"
                                    },
                                    {
                                        "name": "MessageTypeId"
                                    },
                                    {
                                        "name": "OfficialDeltaMessageTypeId"
                                    },
                                    {
                                        "name": "ConsolidatedMovementTransactionId"
                                    },
                                    {
                                        "name": "ConsolidatedInventoryProductId"
                                    },
                                    {
                                        "name": "Classification"
                                    },
                                    {
                                        "name": "SystemTypeId"
                                    },
                                    {
                                        "name": "SourceMovementId"
                                    },
                                    {
                                        "name": "SourceSystemId"
                                    },
                                    {
                                        "name": "SourceSystem"
                                    },
                                    {
                                        "name": "SystemName"
                                    },
                                    {
                                        "name": "EventType"
                                    },
                                    {
                                        "name": "TicketId"
                                    },
                                    {
                                        "name": "DeltaTicketId"
                                    },
                                    {
                                        "name": "OwnershipTicketId"
                                    },
                                    {
                                        "name": "OperationalDate"
                                    },
                                    {
                                        "name": "SegmentId"
                                    },
                                    {
                                        "name": "MeasurementUnit"
                                    },
                                    {
                                        "name": "GrossStandardVolume"
                                    },
                                    {
                                        "name": "NetStandardVolume"
                                    },
                                    {
                                        "name": "UncertaintyPercentage"
                                    },
                                    {
                                        "name": "VariableTypeId"
                                    },
                                    {
                                        "name": "ReasonId"
                                    },
                                    {
                                        "name": "Comment"
                                    },
                                    {
                                        "name": "ContractId"
                                    },
                                    {
                                        "name": "Version"
                                    },
                                    {
                                        "name": "SourceNodeId"
                                    },
                                    {
                                        "name": "SourceNodeName"
                                    },
                                    {
                                        "name": "DestinationNodeId"
                                    },
                                    {
                                        "name": "DestinationNodeName"
                                    },
                                    {
                                        "name": "SourceProductId"
                                    },
                                    {
                                        "name": "SourceProductName"
                                    },
                                    {
                                        "name": "SourceProductTypeId"
                                    },
                                    {
                                        "name": "DestinationProductId"
                                    },
                                    {
                                        "name": "DestinationProductName"
                                    },
                                    {
                                        "name": "DestinationProductTypeId"
                                    },
                                    {
                                        "name": "SourceStorageLocationId"
                                    },
                                    {
                                        "name": "DestinationStorageLocationId"
                                    },
                                    {
                                        "name": "IsDeleted"
                                    },
                                    {
                                        "name": "BatchId"
                                    },
                                    {
                                        "name": "BackupMovementId"
                                    },
                                    {
                                        "name": "GlobalMovementId"
                                    },
                                    {
                                        "name": "IsTransferPoint"
                                    },
                                    {
                                        "name": "ScenarioId"
                                    },
                                    {
                                        "name": "IsOfficial"
                                    },
                                    {
                                        "name": "SourceMovementTransactionId"
                                    },
                                    {
                                        "name": "SourceInventoryProductId"
                                    },
                                    {
                                        "name": "IsSystemGenerated"
                                    },
                                    {
                                        "name": "OfficialDeltaTicketId"
                                    },
                                    {
                                        "name": "OriginalMovementTransactionId"
                                    },
                                    {
                                        "name": "OwnershipTicketConciliationId"
                                    },
                                    {
                                        "name": "SystemId"
                                    },
                                    {
                                        "name": "CreatedDate"
                                    },
                                    {
                                        "name": "LastModifiedDate"
                                    },
                                    {
                                        "name": "IsReconciled"
                                    }
                                ]
                            },
                            "data": [
                                {
                                    "0": "7229f71795f84618300b211cb8fd9807b32b72fef433688ba3",
                                    "1": "1530",
                                    "2": "Compensación Volumétrica por Calidad",
                                    "3": "190832",
                                    "4": "1",
                                    "5": "NULL",
                                    "6": "NULL",
                                    "7": "NULL",
                                    "8": "Movimiento",
                                    "9": "3",
                                    "10": "NULL",
                                    "11": "164",
                                    "12": "EXCEL",
                                    "13": "OAM OFICIAL",
                                    "14": "Insert",
                                    "15": "NULL",
                                    "16": "NULL",
                                    "17": "NULL",
                                    "18": "2021-07-01",
                                    "19": "1928",
                                    "20": "31",
                                    "21": "4473.98",
                                    "22": "4473.98",
                                    "23": "NULL",
                                    "24": "NULL",
                                    "25": "NULL",
                                    "26": "NULL",
                                    "27": "NULL",
                                    "28": "19",
                                    "29": "281",
                                    "30": "TENAY-VASCONIA OAM",
                                    "31": "NULL",
                                    "32": "NULL",
                                    "33": "10000003006",
                                    "34": "CRUDO MEZCLA",
                                    "35": "NULL",
                                    "36": "NULL",
                                    "37": "NULL",
                                    "38": "NULL",
                                    "39": "NULL",
                                    "40": "NULL",
                                    "41": "0",
                                    "42": "",
                                    "43": "NULL",
                                    "44": "NULL",
                                    "45": "0",
                                    "46": "2",
                                    "47": "0",
                                    "48": "NULL",
                                    "49": "NULL",
                                    "50": "NULL",
                                    "51": "27795",
                                    "52": "NULL",
                                    "53": "NULL",
                                    "54": "1929",
                                    "55": "2021-10-13 11:02:18.363",
                                    "56": "2021-10-13 11:12:20.163",
                                    "57": "NULL"
                                }
                            ]
                        },
                        "text/html": [
                            "<table>",
                            "<tr><th>MovementID</th><th>MovementTypeId</th><th>MovementTypeName</th><th>MovementTransactionId</th><th>MessageTypeId</th><th>OfficialDeltaMessageTypeId</th><th>ConsolidatedMovementTransactionId</th><th>ConsolidatedInventoryProductId</th><th>Classification</th><th>SystemTypeId</th><th>SourceMovementId</th><th>SourceSystemId</th><th>SourceSystem</th><th>SystemName</th><th>EventType</th><th>TicketId</th><th>DeltaTicketId</th><th>OwnershipTicketId</th><th>OperationalDate</th><th>SegmentId</th><th>MeasurementUnit</th><th>GrossStandardVolume</th><th>NetStandardVolume</th><th>UncertaintyPercentage</th><th>VariableTypeId</th><th>ReasonId</th><th>Comment</th><th>ContractId</th><th>Version</th><th>SourceNodeId</th><th>SourceNodeName</th><th>DestinationNodeId</th><th>DestinationNodeName</th><th>SourceProductId</th><th>SourceProductName</th><th>SourceProductTypeId</th><th>DestinationProductId</th><th>DestinationProductName</th><th>DestinationProductTypeId</th><th>SourceStorageLocationId</th><th>DestinationStorageLocationId</th><th>IsDeleted</th><th>BatchId</th><th>BackupMovementId</th><th>GlobalMovementId</th><th>IsTransferPoint</th><th>ScenarioId</th><th>IsOfficial</th><th>SourceMovementTransactionId</th><th>SourceInventoryProductId</th><th>IsSystemGenerated</th><th>OfficialDeltaTicketId</th><th>OriginalMovementTransactionId</th><th>OwnershipTicketConciliationId</th><th>SystemId</th><th>CreatedDate</th><th>LastModifiedDate</th><th>IsReconciled</th></tr>",
                            "<tr><td>7229f71795f84618300b211cb8fd9807b32b72fef433688ba3</td><td>1530</td><td>Compensación Volumétrica por Calidad</td><td>190832</td><td>1</td><td>NULL</td><td>NULL</td><td>NULL</td><td>Movimiento</td><td>3</td><td>NULL</td><td>164</td><td>EXCEL</td><td>OAM OFICIAL</td><td>Insert</td><td>NULL</td><td>NULL</td><td>NULL</td><td>2021-07-01</td><td>1928</td><td>31</td><td>4473.98</td><td>4473.98</td><td>NULL</td><td>NULL</td><td>NULL</td><td>NULL</td><td>NULL</td><td>19</td><td>281</td><td>TENAY-VASCONIA OAM</td><td>NULL</td><td>NULL</td><td>10000003006</td><td>CRUDO MEZCLA</td><td>NULL</td><td>NULL</td><td>NULL</td><td>NULL</td><td>NULL</td><td>NULL</td><td>0</td><td></td><td>NULL</td><td>NULL</td><td>0</td><td>2</td><td>0</td><td>NULL</td><td>NULL</td><td>NULL</td><td>27795</td><td>NULL</td><td>NULL</td><td>1929</td><td>2021-10-13 11:02:18.363</td><td>2021-10-13 11:12:20.163</td><td>NULL</td></tr>",
                            "</table>"
                        ]
                    }
                }
            ],
            "execution_count": 7
        }
    ]
}